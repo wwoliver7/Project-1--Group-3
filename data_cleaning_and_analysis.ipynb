{
 "cells": [
  {
   "cell_type": "markdown",
   "metadata": {},
   "source": [
    "# Generating team and salaries data"
   ]
  },
  {
   "cell_type": "code",
   "execution_count": null,
   "metadata": {},
   "outputs": [],
   "source": [
    "# Dependencies and Setup\n",
    "import matplotlib.pyplot as plt\n",
    "import pandas as pd\n",
    "import matplotlib.ticker as ticker\n",
    "from scipy.stats import linregress\n",
    "import seaborn as sns\n",
    "import numpy as np\n",
    "import sklearn\n",
    "import scipy.stats as stats\n"
   ]
  },
  {
   "cell_type": "code",
   "execution_count": null,
   "metadata": {},
   "outputs": [],
   "source": [
    "#Teams data import\n",
    "\n",
    "teams_df = pd.read_csv(\"Baseball Dataset\\Teams.csv\")\n",
    "                          \n",
    "teams_df.head()\n",
    "\n",
    "#Limiting data to years 1985 - 2015\n",
    "teams_df = teams_df[teams_df['yearID']>=1985].reset_index(drop=True)\n",
    "\n",
    "teams_df.head()\n",
    "\n",
    "teams_df.groupby('franchID').count()\n",
    "\n",
    "#Limiting to franchise in full sample\n",
    "    #Note: The Arizona Diamondbacks, Colorado Rockies, Flordia Marlins, and Tampa Bay Devils franchises \n",
    "    #did not exist during the full study time perion (1985-2015) and are dropped from the dataset\n",
    "\n",
    "excluded_franchID = ['ARI','COL','FLA','TBD']\n",
    "\n",
    "teams_df = teams_df.loc[~teams_df['franchID'].isin(excluded_franchID)]\n",
    "\n",
    "teams_df.groupby('franchID').count()\n"
   ]
  },
  {
   "cell_type": "code",
   "execution_count": null,
   "metadata": {},
   "outputs": [],
   "source": [
    "#Salaries data import\n",
    "\n",
    "salaries_df = pd.read_csv(\"Baseball Dataset\\Salaries.csv\")\n",
    "                          \n",
    "salaries_df.head()\n",
    "\n"
   ]
  },
  {
   "cell_type": "code",
   "execution_count": null,
   "metadata": {},
   "outputs": [],
   "source": [
    "#Team player salaries summary statistics\n",
    "team_salary_stats = salaries_df.groupby(['yearID','teamID']).agg(total_player_salaries = ('salary', 'sum'),\n",
    "                                                                  med_player_salary = ('salary','median'),\n",
    "                                                                  min_player_salary = ('salary','min'),\n",
    "                                                                  max_player_salary = ('salary','max'),\n",
    "                                                                  salary_var = ('salary','var'))\n",
    "\n",
    "team_salary_stats.head()"
   ]
  },
  {
   "cell_type": "code",
   "execution_count": null,
   "metadata": {},
   "outputs": [],
   "source": [
    "#Checking # of teams per year\n",
    "team_salary_stats.groupby('yearID').nunique()\n",
    "\n",
    "#Consider restricting our sample to original 26 teams\n"
   ]
  },
  {
   "cell_type": "code",
   "execution_count": null,
   "metadata": {},
   "outputs": [],
   "source": [
    "#Merging Team and Salary Data\n",
    "team_salary_df = pd.merge(teams_df, team_salary_stats, on = ('yearID','teamID'))\n",
    "\n",
    "team_salary_df.head() \n",
    "\n",
    "# Export the merged data into a csv\n",
    "team_salary_df.to_csv(\"Output/team_salary_merged.csv\", index=False)\n",
    "    "
   ]
  },
  {
   "cell_type": "code",
   "execution_count": null,
   "metadata": {},
   "outputs": [],
   "source": [
    "#Adding CBT thresholds and flags for 2003-2015\n",
    "\n",
    "thresholds = pd.read_csv(\"Salary Thresholds/2003-2015 Salary Thresholds.csv\", thousands=',')\n",
    "\n",
    "team_salary_2003_2015 = pd.merge(team_salary_df,thresholds, left_on='yearID', right_on='Year')\n",
    "\n",
    "team_salary_2003_2015['over_threshold'] =np.where(team_salary_2003_2015['total_player_salaries']>team_salary_2003_2015['Threshold'], 1,0)\n",
    "\n",
    "team_salary_2003_2015['times_over_threshold'] = team_salary_2003_2015.groupby('franchID')['over_threshold'].cumsum()\n",
    "\n",
    "team_salary_2003_2015.head()"
   ]
  },
  {
   "cell_type": "code",
   "execution_count": null,
   "metadata": {},
   "outputs": [],
   "source": [
    "#Dataset info\n",
    "team_salary_2003_2015.info() \n",
    "\n",
    "team_salary_2003_2015.describe()"
   ]
  },
  {
   "cell_type": "code",
   "execution_count": null,
   "metadata": {},
   "outputs": [],
   "source": [
    "rank_by_salary_df = teams_df.copy(deep=True)\n",
    "rank_by_salary_df[\"Salary Rank\"] = \"\"\n",
    "rank_by_salary_df.head()"
   ]
  },
  {
   "cell_type": "code",
   "execution_count": null,
   "metadata": {},
   "outputs": [],
   "source": [
    "# adding a salary difference column\n",
    "diff_by_salary_df = team_salary_df.copy(deep=True)\n",
    "diff_by_salary_df[\"Salary Rank\"] = \"\"\n",
    "diff_by_salary_df.head()"
   ]
  },
  {
   "cell_type": "code",
   "execution_count": null,
   "metadata": {},
   "outputs": [],
   "source": [
    "team_salary_df['Salary Rank'] = team_salary_df.groupby(\"yearID\")[\"total_player_salaries\"].rank(ascending=False).astype(int)\n",
    "\n",
    "team_salary_df.head()"
   ]
  },
  {
   "cell_type": "code",
   "execution_count": null,
   "metadata": {},
   "outputs": [],
   "source": [
    "#Merging team, salary, and salary rank data\n",
    "\n",
    "#yearly_team_salaries = yearly_team_salaries.drop(columns='total_player_salaries')\n",
    "\n",
    "team_salary_df['Salary Rank'] = team_salary_df.groupby(\"yearID\")[\"total_player_salaries\"].rank(ascending=False).astype(int)\n",
    "\n",
    "#Merging salary thresholds for 2003-2015\n",
    "\n",
    "thresholds = pd.read_csv(\"Salary Thresholds/2003-2015 Salary Thresholds.csv\", thousands=',')\n",
    "\n",
    "team_salary_tax_df = pd.merge(team_salary_df,thresholds, left_on='yearID', right_on='Year', how='left').drop(columns=[\"Year\"])\n",
    "\n",
    "team_salary_tax_df['Threshold'].fillna(0,inplace=True)\n",
    "\n",
    "#Creating Taxed (over_threshold) Flag for all years\n",
    "top_5_years = [1997,1998,1999,2002]\n",
    "\n",
    "team_salary_tax_df['over_threshold'] = np.where(np.logical_xor(np.logical_and(team_salary_tax_df['yearID'].isin(top_5_years), team_salary_tax_df['Salary Rank'] <=5),\n",
    "                                                               np.logical_and(team_salary_tax_df['yearID'] >=2003, team_salary_tax_df['total_player_salaries']>team_salary_tax_df['Threshold'])),\n",
    "                                                 1,0)\n",
    "     #for 1997-2002 top 5 spending teams were taxed\n",
    "     #for 2003-2015 teams were taxed if spent over threshold\n",
    "\n",
    "\n",
    "team_salary_tax_df.head()\n",
    "\n"
   ]
  },
  {
   "cell_type": "code",
   "execution_count": null,
   "metadata": {},
   "outputs": [],
   "source": [
    "#Counting # of times taxed since 1997\n",
    "team_salary_tax_df['times_over_threshold'] = team_salary_tax_df.groupby('franchID')['over_threshold'].cumsum()\n",
    "\n",
    "# Export the merged data into a csv\n",
    "team_salary_tax_df.to_csv(\"Output/team_salary_tax.csv\", index=False)\n",
    "\n",
    "#Sorting by most to less taxed teams\n",
    "\n",
    "df_2015 = team_salary_tax_df[team_salary_tax_df['yearID']==2015]\n",
    "times_taxed = df_2015[['franchID', 'name', 'times_over_threshold']].sort_values('times_over_threshold', ascending=False)\n",
    "\n",
    "times_taxed\n",
    "\n"
   ]
  },
  {
   "cell_type": "markdown",
   "metadata": {},
   "source": [
    "# Question 1 Analysis, salary impacts (Clayton Knight )"
   ]
  },
  {
   "cell_type": "code",
   "execution_count": null,
   "metadata": {},
   "outputs": [],
   "source": [
    "# group by year and franchID, and calculate the total player salaries for each group\n",
    "yearly_team_salaries = team_salary_df.groupby([\"yearID\", \"franchID\"])[\"total_player_salaries\"].sum().reset_index()\n",
    "\n",
    "# Rank the total player salaries within each year\n",
    "yearly_team_salaries['Salary Rank'] = yearly_team_salaries.groupby(\"yearID\")[\"total_player_salaries\"].rank(ascending=False).astype(int)\n",
    "\n",
    "yearly_team_salaries.head(-30)\n",
    "\n",
    "yearly_team_salaries[yearly_team_salaries[\"Salary Rank\"]==1]"
   ]
  },
  {
   "cell_type": "code",
   "execution_count": null,
   "metadata": {},
   "outputs": [],
   "source": [
    "# Rename the columns\n",
    "yearly_team_salaries_rename = yearly_team_salaries.rename(columns={'yearID': 'Year', 'franchID': 'Franchise ID', 'total_player_salaries': 'Total Team Salary'})\n",
    "\n",
    "yearly_team_salaries_rename"
   ]
  },
  {
   "cell_type": "code",
   "execution_count": null,
   "metadata": {},
   "outputs": [],
   "source": [
    "# getting the difference between top and bottom each year\n",
    "yearly_salary_difference = yearly_team_salaries_rename.groupby(\"Year\")[\"Total Team Salary\"].max() - yearly_team_salaries_rename.groupby(\"Year\")[\"Total Team Salary\"].min()\n",
    "\n",
    "# getting the average salary per year\n",
    "\n",
    "avg_salary_per_year = yearly_team_salaries_rename.groupby(\"Year\")[\"Total Team Salary\"].mean()\n",
    "\n",
    "# bar chart\n",
    "plt.figure(figsize=(10,6))\n",
    "bar_colors=[\"blue\" if year != 1997 else \"red\" for year in yearly_salary_difference.index]\n",
    "yearly_salary_difference.plot(kind=\"bar\", color=bar_colors)\n",
    "plt.title(\"Disparity Between Teams with Highest and Lowest Salaries per Year\")\n",
    "plt.xlabel(\"Year\")\n",
    "plt.ylabel(\"Salary Difference, USD\")\n",
    "plt.xticks(rotation=45)\n",
    "plt.tight_layout\n",
    "formatter = ticker.StrMethodFormatter('{x:,.0f}')\n",
    "plt.gca().yaxis.set_major_formatter(formatter)\n",
    "plt.savefig(\"Output/Disparity Fig.png\")\n",
    "plt.show()"
   ]
  },
  {
   "cell_type": "code",
   "execution_count": null,
   "metadata": {},
   "outputs": [],
   "source": [
    "avg_salary_per_year = yearly_team_salaries_rename.groupby(\"Year\")[\"Total Team Salary\"].mean().reset_index()\n",
    "\n",
    "# Linear regression line\n",
    "slope, intercept,_,_,_ = linregress(avg_salary_per_year[\"Year\"], avg_salary_per_year[\"Total Team Salary\"])\n",
    "regression_line = slope * avg_salary_per_year[\"Year\"] + intercept\n",
    "\n",
    "# Plotting the regression chart\n",
    "plt.figure(figsize=(10, 6))\n",
    "plt.scatter(avg_salary_per_year[\"Year\"], avg_salary_per_year[\"Total Team Salary\"], color='blue', label=\"Average Total Team Salary\")\n",
    "plt.plot(avg_salary_per_year[\"Year\"], regression_line, color=\"red\", linestyle=\"-\", label=\"Regression Line\")\n",
    "plt.title(\"Average Total Team Salary per Year (Regression)\")\n",
    "plt.xlabel(\"Year\")\n",
    "plt.ylabel(\"Average Total Team Salary, USD\")\n",
    "plt.grid(True, linestyle=\"--\", alpha=0.7)\n",
    "plt.legend()\n",
    "plt.tight_layout()\n",
    "plt.ticklabel_format(style='plain',axis=\"y\")\n",
    "formatter = ticker.StrMethodFormatter('{x:,.0f}')\n",
    "plt.gca().yaxis.set_major_formatter(formatter)\n",
    "plt.savefig(\"Output/Avg Regression Fig.png\")\n",
    "plt.show"
   ]
  },
  {
   "cell_type": "markdown",
   "metadata": {},
   "source": [
    "# Question 2 Analysis, wins vs salary ( Wanderson Oliveira)"
   ]
  },
  {
   "cell_type": "code",
   "execution_count": null,
   "metadata": {},
   "outputs": [],
   "source": [
    "#Study data files\n",
    "team_salary_merged_path = \"Output/team_salary_merged.csv\"\n",
    "#Read Study Results\n",
    "team_salary_merged = pd.read_csv(team_salary_merged_path)\n",
    "team_salary_merged.head()"
   ]
  },
  {
   "cell_type": "code",
   "execution_count": null,
   "metadata": {},
   "outputs": [],
   "source": [
    "# Most wins from higher to lower\n",
    "top_wins = team_salary_merged.sort_values([\"W\"],ascending=False)\n",
    "top_wins.head(30)"
   ]
  },
  {
   "cell_type": "code",
   "execution_count": null,
   "metadata": {},
   "outputs": [],
   "source": [
    "#Wins selected by year ( All teams)\n",
    "top_wins_group = top_wins.groupby(\"yearID\").apply(lambda x: x.sort_values('W',ascending=False))\n",
    "\n",
    "top_wins_group.head()"
   ]
  },
  {
   "cell_type": "code",
   "execution_count": null,
   "metadata": {},
   "outputs": [],
   "source": [
    "# Team with most victories by year \n",
    "dataframe = top_wins_group.drop_duplicates(subset=['yearID'])\n",
    "dataframe"
   ]
  },
  {
   "cell_type": "code",
   "execution_count": null,
   "metadata": {},
   "outputs": [],
   "source": [
    "not_strike= dataframe.copy(deep=True)\n",
    "not_strike = not_strike[not_strike['yearID']!=1994]\n",
    "not_strike['log_salary'] = np.log(not_strike['total_player_salaries'])\n",
    "not_strike.head(30)"
   ]
  },
  {
   "cell_type": "code",
   "execution_count": null,
   "metadata": {},
   "outputs": [],
   "source": [
    "# Calculating Mean of Wins per each team \n",
    "summary_aggr =  team_salary_merged.groupby(['franchID'])[['W']].agg(['mean'])\n",
    "summary_aggr"
   ]
  },
  {
   "cell_type": "code",
   "execution_count": null,
   "metadata": {},
   "outputs": [],
   "source": [
    "#Correlation between wins and Salary over the years\n",
    "print(not_strike['W'].corr(not_strike['total_player_salaries']))"
   ]
  },
  {
   "cell_type": "code",
   "execution_count": null,
   "metadata": {},
   "outputs": [],
   "source": [
    "# Average of wins over the years.\n",
    "plt.figure(figsize=(14,10))  ## width, height\n",
    "team_salary_merged.groupby('franchID')['W'].mean().plot.bar()\n",
    "plt.xlabel('Teams')\n",
    "plt.ylabel(' Avg Wins')\n",
    "plt.title('Average of wins across years')\n",
    "plt.savefig('Output/team_avg_wins.png')\n",
    "#plt.legend(bbox_to_anchor=(1.0, 1.0))\n",
    "plt.show()"
   ]
  },
  {
   "cell_type": "code",
   "execution_count": null,
   "metadata": {},
   "outputs": [],
   "source": [
    "# Assigning names to columns in DF\n",
    "not_strike_renamed = not_strike.rename(columns={\n",
    "    'franchID': 'Teams',\n",
    "    'total_player_salaries': 'Salary, USD',\n",
    "    'yearID': 'Years',\n",
    "    'W': 'Wins'\n",
    "})"
   ]
  },
  {
   "cell_type": "code",
   "execution_count": null,
   "metadata": {},
   "outputs": [],
   "source": [
    "# Correlation between Wins x Salary from 1985 to 2015\n",
    "plt.figure(figsize=(14, 9))  ## width, height\n",
    "sns.scatterplot(x='Years', y='Salary, USD', data=not_strike_renamed, size='Wins', hue='Teams')\n",
    "plt.xlabel('Years')\n",
    "plt.ylabel('Salary, USD')\n",
    "plt.title('Team with most wins each season vs team player salaries')\n",
    "plt.legend(bbox_to_anchor=(1.0, 1.0))\n",
    "# Formatting y-axis labels to display salary in USD format\n",
    "formatter = ticker.StrMethodFormatter('{x:,.0f}')\n",
    "plt.gca().yaxis.set_major_formatter(formatter)\n",
    "plt.savefig('Output\\wins vs salary.png')\n",
    "plt.show()"
   ]
  },
  {
   "cell_type": "markdown",
   "metadata": {},
   "source": [
    "# Ouestion 3 Analysis, team performance (Molly Ingram)"
   ]
  },
  {
   "cell_type": "code",
   "execution_count": null,
   "metadata": {},
   "outputs": [],
   "source": [
    "# Relationship btwn performance stats and wins\n",
    "team_salary_tax = team_salary_tax_df\n",
    "\n",
    "plt.scatter(team_salary_tax['W'],team_salary_tax['R'])\n",
    "plt.xlabel('Wins')\n",
    "plt.ylabel('Runs')\n",
    "plt.show()\n",
    "\n",
    "plt.scatter(team_salary_tax['W'],team_salary_tax['SF'])\n",
    "plt.xlabel('Wins')\n",
    "plt.ylabel('Scrafice Flies')\n",
    "plt.show()\n",
    "\n",
    "plt.scatter(team_salary_tax['W'],team_salary_tax['DP'])\n",
    "plt.xlabel('Wins')\n",
    "plt.ylabel('Double Plays')\n",
    "plt.show()"
   ]
  },
  {
   "cell_type": "code",
   "execution_count": null,
   "metadata": {},
   "outputs": [],
   "source": [
    "#Relationship btwn performance stats and team salary variance\n",
    "plt.scatter(team_salary_tax['salary_var'],team_salary_tax['R'])\n",
    "plt.xlabel('Player Salary Variance')\n",
    "plt.ylabel('Runs')\n",
    "plt.show()\n",
    "\n",
    "plt.scatter(team_salary_tax['salary_var'],team_salary_tax['SB'])\n",
    "plt.xlabel('Player Salary Variance')\n",
    "plt.ylabel('Stolen Bases')\n",
    "plt.show()\n",
    "\n",
    "plt.scatter(team_salary_tax['salary_var'],team_salary_tax['DP'])\n",
    "plt.xlabel('Player Salary Variance')\n",
    "plt.ylabel('Double Plays')\n",
    "plt.show()\n"
   ]
  },
  {
   "cell_type": "code",
   "execution_count": null,
   "metadata": {},
   "outputs": [],
   "source": [
    "#Relationship btwn performance stats and team salary \n",
    "plt.scatter(team_salary_tax['total_player_salaries'],team_salary_tax['HR'])\n",
    "plt.xlabel('Total Player Salaries')\n",
    "plt.ylabel('Home Runs')\n",
    "plt.show()\n",
    "\n",
    "plt.scatter(team_salary_tax['total_player_salaries'],team_salary_tax['3B'])\n",
    "plt.xlabel('Total Player Salaries')\n",
    "plt.ylabel('Triples')\n",
    "plt.show()\n",
    "\n",
    "plt.scatter(team_salary_tax['total_player_salaries'],team_salary_tax['E'])\n",
    "plt.xlabel('Total Player Salaries')\n",
    "plt.ylabel('Errors')\n",
    "plt.show()"
   ]
  },
  {
   "cell_type": "code",
   "execution_count": null,
   "metadata": {},
   "outputs": [],
   "source": [
    "team_salary_tax.columns"
   ]
  },
  {
   "cell_type": "markdown",
   "metadata": {},
   "source": [
    "### Using RandomForest Regressor to find which performance variables best relate to wins and team player salaries"
   ]
  },
  {
   "cell_type": "code",
   "execution_count": null,
   "metadata": {},
   "outputs": [],
   "source": [
    "# Pulling out feature and target variables\n",
    "\n",
    "rf_df = team_salary_tax[['W','R', 'AB', 'H', '2B', '3B', 'HR', 'BB', 'SO', 'SB', 'CS',\n",
    "                         'RA', 'ER', 'ERA', 'CG','SHO','SV', 'HA', 'HRA', 'BBA',\n",
    "                           'SOA', 'E', 'DP', 'FP','total_player_salaries']]\n",
    "\n",
    "\n",
    "rf_df.isnull().sum()"
   ]
  },
  {
   "cell_type": "code",
   "execution_count": null,
   "metadata": {},
   "outputs": [],
   "source": [
    "# Generating training and test samples\n",
    "\n",
    "x = rf_df.drop(columns=['W', 'total_player_salaries'])\n",
    "y_wins = rf_df['W']\n",
    "y_salary = rf_df['total_player_salaries']\n",
    "\n",
    "from sklearn.model_selection import train_test_split\n",
    "\n",
    "training_w, testing_w, training_labels_w, testings_labels_w = train_test_split(x, y_wins,test_size = .5, random_state = 42)\n",
    "training_s, testing_s, training_labels_s, testings_labels_s = train_test_split(x, y_salary,test_size = .5, random_state = 42)"
   ]
  },
  {
   "cell_type": "code",
   "execution_count": null,
   "metadata": {},
   "outputs": [],
   "source": [
    "#Looking at relationships btwn vars\n",
    "rf_df = rf_df.rename(columns={'total_player_salaries_100k': 'Player Salaries', 'W': \"Wins\"})\n",
    "\n",
    "sns.heatmap(rf_df.corr(),xticklabels=rf_df.columns, yticklabels=rf_df.columns)\n",
    "plt.title('Correlations between Performance Stats, Wins, and Salaries')\n",
    "\n",
    "plt.savefig('Output/performance correlations.png')\n"
   ]
  },
  {
   "cell_type": "code",
   "execution_count": null,
   "metadata": {},
   "outputs": [],
   "source": [
    "#Running RF for wins and salary outcomes\n",
    "\n",
    "from sklearn.ensemble import RandomForestRegressor\n",
    "\n",
    "# Instantiate model with 1000 decision trees\n",
    "rf_w = RandomForestRegressor(n_estimators = 1000, random_state = 42)\n",
    "rf_s = RandomForestRegressor(n_estimators = 1000, random_state = 42)\n",
    "\n",
    "# Train the model on training data\n",
    "rf_w.fit(training_w, training_labels_w)\n",
    "rf_s.fit(training_s, training_labels_s)\n",
    "\n",
    "#Checking performance \n",
    "predictions_w = rf_w.predict(testing_w)\n",
    "error_w = abs(predictions_w - testings_labels_w)\n",
    "mape_w = 100 * (error_w / testings_labels_w)\n",
    "accuracy_w = 100 - np.mean(mape_w)\n",
    "print('Accuracy in estimating wins:', round(accuracy_w, 2), '%.')\n",
    "\n",
    "predictions_s = rf_s.predict(testing_s)\n",
    "error_s = abs(predictions_s - testings_labels_s)\n",
    "mape_s = 100 * (error_s / testings_labels_s)\n",
    "accuracy_s = 100 - np.mean(mape_s)\n",
    "print('Accuracy in estimating salary:', round(accuracy_s, 2), '%.')\n"
   ]
  },
  {
   "cell_type": "code",
   "execution_count": null,
   "metadata": {},
   "outputs": [],
   "source": [
    "#Feature importance\n",
    "importances_w = list(rf_w.feature_importances_)\n",
    "feature_importances_w = [(feature, round(importance, 3)) for feature, importance in zip(x.columns, importances_w)]\n",
    "# Sort the feature importances by most important first\n",
    "feature_importances_w = sorted(feature_importances_w, key = lambda x: x[1], reverse = True)\n",
    "# Print out the feature and importances \n",
    "print('Variable importance for predicting wins')\n",
    "[print('Variable: {:20} Importance: {}'.format(*pair)) for pair in feature_importances_w]\n",
    "\n",
    "print('-----------------------------------------------------------------------------------')\n",
    "\n",
    "importances_s = list(rf_s.feature_importances_)\n",
    "feature_importances_s = [(feature, round(importance, 3)) for feature, importance in zip(x.columns, importances_s)]\n",
    "# Sort the feature importances by most important first\n",
    "feature_importances_s = sorted(feature_importances_s, key = lambda x: x[1], reverse = True)\n",
    "# Print out the feature and importances \n",
    "print('Variable importance for predicting salary')\n",
    "[print('Variable: {:20} Importance: {}'.format(*pair)) for pair in feature_importances_s]\n"
   ]
  },
  {
   "cell_type": "code",
   "execution_count": null,
   "metadata": {},
   "outputs": [],
   "source": [
    "#Adding performance index to main df\n",
    "\n",
    "team_salary_tax['rf_pred'] = rf_w.predict(x)\n",
    "\n",
    "team_salary_tax.head()\n",
    "\n",
    "team_salary_tax['W'].corr(team_salary_tax['rf_pred'])"
   ]
  },
  {
   "cell_type": "code",
   "execution_count": null,
   "metadata": {},
   "outputs": [],
   "source": [
    "#Performance prediction vs wins\n",
    "plt.scatter(team_salary_tax['rf_pred'], team_salary_tax['W'], alpha=.5, edgecolors='black')\n",
    "plt.xlabel('Wins Predicted by Performance')\n",
    "plt.ylabel('Actual Wins')\n",
    "\n",
    "plt.savefig('Output/perdicted vs actual.png')\n"
   ]
  },
  {
   "cell_type": "code",
   "execution_count": null,
   "metadata": {},
   "outputs": [],
   "source": [
    "# Statistical tests on performance distributions pre- and post- tax rules\n",
    "\n",
    "perf_pre = team_salary_tax.loc[team_salary_tax['yearID']<1997, ['rf_pred']]\n",
    "perf_post = team_salary_tax.loc[team_salary_tax['yearID']>=1997, ['rf_pred']]\n",
    "perf_post2003 = team_salary_tax.loc[team_salary_tax['yearID']>=2003, ['rf_pred']]\n",
    "\n",
    "#Testing variances\n",
    "print('F test results for pre and post', stats.f_oneway(perf_pre,perf_post))\n",
    "print('F test results for pre and post 2003', stats.f_oneway(perf_pre,perf_post2003))\n",
    "\n",
    "#Testing means (speficially if post is higher)\n",
    "print('Right tailed T test results for pre and post', stats.ttest_ind(perf_post, perf_pre, alternative='greater'))\n",
    "print('Right tailed T test results for pre and post 2003', stats.ttest_ind(perf_post2003, perf_pre, alternative='greater'))\n",
    "\n",
    "\n",
    "fig, (ax1,ax2,ax3) = plt.subplots(3, sharey=True, figsize=(7,6))\n",
    "ax1.hist(perf_pre,bins=50)\n",
    "ax1.set_ylabel('1985 - 1996')\n",
    "ax2.hist(perf_post,bins=50)\n",
    "ax2.set_ylabel('1997 - 2015')\n",
    "ax3.hist(perf_post2003, bins=50)\n",
    "ax3.set_ylabel('2003 - 2015')\n",
    "fig.suptitle('Team Performance Distributions')\n",
    "fig.supxlabel('Wins Predicted by Performance')\n",
    "fig.supylabel('Years')\n",
    "\n",
    "plt.savefig('Output/perf distributions.png')\n",
    "\n"
   ]
  },
  {
   "cell_type": "code",
   "execution_count": null,
   "metadata": {},
   "outputs": [],
   "source": [
    "#Generating annual performance predictions\n",
    "years = team_salary_tax['yearID'].unique()\n",
    "\n",
    "perf_stats = dict()\n",
    "for year in years:\n",
    "    data = team_salary_tax.loc[team_salary_tax['yearID']==year, ['rf_pred']]\n",
    "    perf_stats[year] = data['rf_pred'].values\n",
    "\n",
    "perf_stats = pd.DataFrame.from_dict(perf_stats)\n",
    "\n",
    "plt.figure(figsize=(15,5))\n",
    "plt.boxplot(perf_stats, positions=np.array(np.arange(len(years))*3), widths=.75)\n",
    "plt.axvline(34.5, color='r' )\n",
    "plt.annotate('Taxes based on player salaries begin', xy=[34.75, 50],fontstyle = 'italic')\n",
    "plt.xticks(np.arange(0,len(years)*3,3),years, rotation = 90)\n",
    "plt.xlim(-3,len(years)*3)\n",
    "plt.ylabel('Wins Predicted by Performance')\n",
    "plt.xlabel('Year')\n",
    "plt.title('Performance Distributions')\n",
    "plt.savefig('Output/Performance by year.png')\n",
    "\n",
    "plt.show()\n"
   ]
  }
 ],
 "metadata": {
  "kernelspec": {
   "display_name": "base",
   "language": "python",
   "name": "python3"
  },
  "language_info": {
   "codemirror_mode": {
    "name": "ipython",
    "version": 3
   },
   "file_extension": ".py",
   "mimetype": "text/x-python",
   "name": "python",
   "nbconvert_exporter": "python",
   "pygments_lexer": "ipython3",
   "version": "3.11.5"
  }
 },
 "nbformat": 4,
 "nbformat_minor": 2
}
